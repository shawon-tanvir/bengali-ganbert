{
  "nbformat": 4,
  "nbformat_minor": 0,
  "metadata": {
    "colab": {
      "provenance": []
    },
    "kernelspec": {
      "name": "python3",
      "display_name": "Python 3"
    },
    "language_info": {
      "name": "python"
    }
  },
  "cells": [
    {
      "cell_type": "code",
      "source": [
        "import pandas as pd\n",
        "fake = pd.read_excel(\"/content/fake871.xlsx\")"
      ],
      "metadata": {
        "id": "pQDckGSQRx3o"
      },
      "execution_count": null,
      "outputs": []
    },
    {
      "cell_type": "code",
      "source": [
        "fake.head()"
      ],
      "metadata": {
        "id": "vZWYrMETYLon"
      },
      "execution_count": null,
      "outputs": []
    },
    {
      "cell_type": "code",
      "source": [
        "#print(fake)\n",
        "# pandas count distinct values in column\n",
        "print(fake['Label'].value_counts())\n",
        "fake['hate']=fake['Label']\n",
        "fake['hate'] = fake['hate'].astype('category')\n",
        "fake.hate = fake.hate.cat.rename_categories([0])\n",
        "fake['hate'].value_counts()"
      ],
      "metadata": {
        "id": "h5g0MWC4R-BM"
      },
      "execution_count": null,
      "outputs": []
    },
    {
      "cell_type": "code",
      "source": [
        "fake.head()"
      ],
      "metadata": {
        "id": "giThaxwBYr-B"
      },
      "execution_count": null,
      "outputs": []
    },
    {
      "cell_type": "code",
      "source": [
        "%%capture\n",
        "!pip3 install git+https://github.com/csebuetnlp/normalizer\n",
        "from normalizer import normalize\n",
        "def norm(txt):\n",
        "  return normalize(txt)"
      ],
      "metadata": {
        "id": "R7D3fSI3VSoA"
      },
      "execution_count": null,
      "outputs": []
    },
    {
      "cell_type": "code",
      "source": [
        "for i in range(len(fake)):\n",
        "  fake['Translated'][i]=norm(fake['Translated'][i])"
      ],
      "metadata": {
        "id": "2GvhrXu4VXSA"
      },
      "execution_count": null,
      "outputs": []
    },
    {
      "cell_type": "code",
      "source": [
        "import numpy as np\n",
        "content=fake['Translated']\n",
        "label=fake['hate']\n",
        "#fake['processed']=fake['label']+':'+fake['content']\n",
        "fake['hate']= fake['hate'].apply(str)\n",
        "fake['Translated'] = fake['Translated'].str.replace(':',' ')\n",
        "\n",
        "new = fake[\"Translated\"].copy()\n",
        "\n",
        "# concatenating team with name column\n",
        "# overwriting name column\n",
        "fake['processed']= fake[\"hate\"].str.cat(new, sep =\":\")\n",
        "print(fake['processed'])"
      ],
      "metadata": {
        "id": "BRbAiRTNSiU5"
      },
      "execution_count": null,
      "outputs": []
    },
    {
      "cell_type": "code",
      "source": [
        "authentic = pd.read_excel(\"/content/real5015.xlsx\")\n",
        "print(authentic)"
      ],
      "metadata": {
        "id": "WayBWRgwTRla"
      },
      "execution_count": null,
      "outputs": []
    },
    {
      "cell_type": "code",
      "source": [
        "for i in range(len(authentic)):\n",
        "  authentic['Translated'][i]=norm(authentic['Translated'][i])"
      ],
      "metadata": {
        "id": "z_c2xnptVxug"
      },
      "execution_count": null,
      "outputs": []
    },
    {
      "cell_type": "code",
      "source": [
        "content=authentic['Translated']\n",
        "label=authentic['Label']\n",
        "authentic['Label']= authentic['Label'].apply(str)\n",
        "authentic['Label'] = authentic['Label'].replace(['1.0'],'1')\n",
        "authentic['Translated'] = authentic['Translated'].str.replace(':',' ')\n",
        "\n",
        "new = authentic[\"Translated\"].copy()\n",
        "\n",
        "# concatenating team with name column\n",
        "# overwriting name column\n",
        "authentic['processed']= authentic[\"Label\"].str.cat(new, sep =\":\")\n",
        "print(authentic['processed'])"
      ],
      "metadata": {
        "id": "WqBMm2kEXN8M"
      },
      "execution_count": null,
      "outputs": []
    },
    {
      "cell_type": "code",
      "source": [
        "authentic2=authentic.sample(frac=0.1736,random_state=12)\n",
        "print(authentic2['processed'])"
      ],
      "metadata": {
        "id": "hr5jrg1QXipq"
      },
      "execution_count": null,
      "outputs": []
    },
    {
      "cell_type": "code",
      "source": [
        "authentic2.shape"
      ],
      "metadata": {
        "id": "SNDAEeEkYrSq"
      },
      "execution_count": null,
      "outputs": []
    },
    {
      "cell_type": "code",
      "source": [
        "fakedata = fake['processed']\n",
        "authenticdata = authentic2['processed']\n",
        "print(authenticdata)"
      ],
      "metadata": {
        "id": "eENIAZKEY4QW"
      },
      "execution_count": null,
      "outputs": []
    },
    {
      "cell_type": "code",
      "source": [
        "frames = [fakedata, authenticdata]\n",
        "\n",
        "result = pd.concat(frames)\n",
        "print(result.size)"
      ],
      "metadata": {
        "id": "PRX1Td0SbL6p"
      },
      "execution_count": null,
      "outputs": []
    },
    {
      "cell_type": "code",
      "source": [
        "from sklearn.utils import shuffle\n",
        "df = shuffle(result)"
      ],
      "metadata": {
        "id": "6DGRVb8gb6NF"
      },
      "execution_count": null,
      "outputs": []
    },
    {
      "cell_type": "code",
      "source": [
        "#print(df)\n",
        "df.head(20)"
      ],
      "metadata": {
        "id": "zrnIyqHMcICs"
      },
      "execution_count": null,
      "outputs": []
    },
    {
      "cell_type": "code",
      "source": [
        "df.reset_index(drop=True, inplace=True)"
      ],
      "metadata": {
        "id": "9pvSEAnSdHkI"
      },
      "execution_count": null,
      "outputs": []
    },
    {
      "cell_type": "code",
      "source": [
        "df.to_csv('/content/drive/My Drive/Data712/fake/hate256.csv',index=False)\n",
        "new_df = pd.read_csv('/content/drive/My Drive/Data712/fake/hate256.csv')\n",
        "new_df.head()"
      ],
      "metadata": {
        "id": "taA_o0pScJ4o"
      },
      "execution_count": null,
      "outputs": []
    },
    {
      "cell_type": "code",
      "source": [
        "test=df.sample(frac=0.294,random_state=12)\n",
        "print(len(test))\n",
        "remaining=df.drop(test.index)\n",
        "#print(remaining)\n",
        "labeled=remaining.sample(frac=0.4159,random_state=20)\n",
        "print(len(labeled))\n",
        "unlabeled=remaining.drop(labeled.index)\n",
        "unlabeled=unlabeled.sample(frac=0.713,random_state=20)\n",
        "print(len(unlabeled))"
      ],
      "metadata": {
        "id": "6ENrToxRcnli"
      },
      "execution_count": null,
      "outputs": []
    },
    {
      "cell_type": "code",
      "source": [
        "unlabeled=unlabeled.str.slice(start=2)\n",
        "print(unlabeled)"
      ],
      "metadata": {
        "id": "kab4M9PQjjzJ"
      },
      "execution_count": null,
      "outputs": []
    },
    {
      "cell_type": "code",
      "source": [
        "check= pd.DataFrame(unlabeled)\n",
        "print(check)"
      ],
      "metadata": {
        "id": "5oAR7mGOrv-N"
      },
      "execution_count": null,
      "outputs": []
    },
    {
      "cell_type": "code",
      "source": [
        "check[\"addition\"]='UNK:'\n",
        "print(check)"
      ],
      "metadata": {
        "id": "5ahveY1lmplD"
      },
      "execution_count": null,
      "outputs": []
    },
    {
      "cell_type": "code",
      "source": [
        "check['processed']= check[\"addition\"].str.cat(check[\"processed\"], sep =\"\")\n",
        "print(check)"
      ],
      "metadata": {
        "id": "rSmwaEaeq2QP"
      },
      "execution_count": null,
      "outputs": []
    },
    {
      "cell_type": "code",
      "source": [
        "unlabeled_data=check['processed']\n",
        "print(unlabeled_data)"
      ],
      "metadata": {
        "id": "3aolchjXrpqI"
      },
      "execution_count": null,
      "outputs": []
    },
    {
      "cell_type": "code",
      "source": [
        "test.to_csv('test512.tsv',index=False)\n",
        "labeled.to_csv('labeled512.tsv',index=False)\n",
        "unlabeled_data.to_csv('unlabeled512.tsv',index=False)"
      ],
      "metadata": {
        "id": "OkfzRFp_syIL"
      },
      "execution_count": null,
      "outputs": []
    }
  ]
}